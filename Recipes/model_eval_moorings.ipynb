{
 "cells": [
  {
   "cell_type": "markdown",
   "metadata": {},
   "source": [
    "### **This recipe will show you how to evaluate the model temperature using moorings**\n",
    "\n",
    "<br>\n",
    "\n",
    "**Important note**: this script won't work if ran in a job on NCI when connected via VScode since it does not have network connection. You'll to run it from your browser!\n",
    "\n",
    "<br>\n",
    "\n",
    "**Output**\\\n",
    "This recipe creates netcdf files for each mooring location and the model point at the mooring location.\\\n",
    "The file will be saved into your local (./) directory.\\\n",
    "If you don't want file to be saved, change SAVING to False in the second cell.\n",
    "\n",
    "<br>\n",
    "\n",
    "\n",
    "\n",
    "- When you run the notebook, it will use OpenDAP to access IMOS mooring data from southeast Australia, and compare it with output from the ROMS-EAC ocean model. The model output is stored at NCI and available upon request.\n",
    "\n",
    "- You’ll notice that the model point selected for comparison is not always the closest one geographically to the mooring. Instead, it’s the point with the most similar depth, chosen from within a specific range of longitudes. We chose longitudes because on the shelf longitudes change more drastically the depth not very far from the mooring location.\n",
    "\n",
    "- This is because, in ocean models, depth often plays a bigger role than horizontal distance when comparing temperature. In many cases, the geographically nearest model point has a much different depth than the mooring, which can lead to a poor comparison of water column structure.\n",
    "\n",
    "- Moorings are at daily sampling, same as model\n",
    "\n",
    "\n",
    "<br>\n",
    "\n",
    "#### **History**\n",
    "- Originally created by Neil Malan\n",
    "- Adapted and improved by Fernando Sobral on 5th Jun 2025"
   ]
  },
  {
   "cell_type": "code",
   "execution_count": 1,
   "metadata": {},
   "outputs": [],
   "source": [
    "import xarray as xr\n",
    "from glob import glob\n",
    "import matplotlib.pyplot as plt\n",
    "import xroms\n",
    "from cartopy import geodesic  # FS only way to get this module\n",
    "import cartopy\n",
    "import cartopy.crs as ccrs\n",
    "import cartopy.feature as cfeature\n",
    "from cartopy.mpl.ticker import LongitudeFormatter, LatitudeFormatter\n",
    "from cartopy.mpl.gridliner import LONGITUDE_FORMATTER, LATITUDE_FORMATTER\n",
    "import numpy as np\n",
    "import cmocean.cm as cmo\n",
    "\n",
    "import xarray as xr\n",
    "from siphon.catalog import TDSCatalog"
   ]
  },
  {
   "cell_type": "code",
   "execution_count": 2,
   "metadata": {},
   "outputs": [
    {
     "name": "stdout",
     "output_type": "stream",
     "text": [
      "Files will NOT be saved into your local directory.\n"
     ]
    }
   ],
   "source": [
    "# Set saving to True if you want files to be saved into your local directory and False if you don't\n",
    "# False is the default.\n",
    "\n",
    "saving=False\n",
    "\n",
    "if saving:\n",
    "    print('Files will be saved into your local directory.')\n",
    "else:\n",
    "    print('Files will NOT be saved into your local directory.')\n",
    "    "
   ]
  },
  {
   "cell_type": "code",
   "execution_count": 3,
   "metadata": {},
   "outputs": [],
   "source": [
    "#----------------------------------------------------------------\n",
    "# \n",
    "def save_model_at_mooring(var, filename):\n",
    "    data = var.data\n",
    "    time = var.ocean_time.data\n",
    "    depth = var.z_rho.mean('ocean_time').data\n",
    "    nc = xr.Dataset(\n",
    "        data_vars=dict(\n",
    "            temp=([\"time\", \"depth\"], data)\n",
    "        ),\n",
    "        coords=dict(\n",
    "            time=([\"time\"], time),\n",
    "            depth=([\"depth\"], depth),\n",
    "        ),\n",
    "        attrs=dict(description=\"EAC_ROMS Vr at \"+str(var)),\n",
    "    )\n",
    "    nc.to_netcdf(filename + '.nc')\n",
    "    \n",
    "#----------------------------------------------------------------\n",
    "# \n",
    "def plot_moor_pos(model, lon_obs, lat_obs, lon_best, isobath, titlestring):\n",
    "    '''\n",
    "    This script subsample an area from the model to plot the bathymetry together with the mooring location and model location.\n",
    "\n",
    "    '''\n",
    "    dl = .3\n",
    "    box = (model.lon_rho > lon_obs - dl) & (model.lon_rho < lon_obs + dl) & (model.lat_rho > lat_obs - dl) & (model.lat_rho < lat_obs + dl)\n",
    "    dss = model.h.where(box.compute(), drop=True)\n",
    "    dss.plot(x='lon_rho', y='lat_rho', vmax=200, cmap=cmo.deep)\n",
    "    dss.plot.contour(x='lon_rho', y='lat_rho', levels=[isobath], colors='k', linestyles='--')\n",
    "    plt.scatter(lon_obs, lat_obs, s=50, c = 'k', edgecolor='r', label = 'mooring location')\n",
    "    plt.scatter(lon_best, lat_obs, s=50, c = 'k', edgecolor='w',label = 'validation location')\n",
    "    plt.xlim(lon_obs - dl, lon_obs + dl)\n",
    "    plt.ylim(lat_obs - dl, lat_obs + dl)\n",
    "    plt.legend()\n",
    "    plt.title(titlestring)\n",
    "\n",
    "#----------------------------------------------------------------\n",
    "# \n",
    "def load_latest_station_data(station_code, variable_keyword='TEMP'):\n",
    "    \"\"\"\n",
    "    Loads the first NetCDF dataset that matches a variable from the specified station.\n",
    "    \n",
    "    Parameters:\n",
    "    - station_code (str): 'CH070', 'CH100', 'SYD100', 'SYD140', 'BMP070', 'BMP120'\n",
    "    - variable_keyword (str): partial match, e.g., 'TEMP'\n",
    "\n",
    "    Returns:\n",
    "    - xarray.Dataset\n",
    "    \"\"\"\n",
    "    base_catalog_url = f'http://thredds.aodn.org.au/thredds/catalog/IMOS/ANMN/NSW/{station_code}/gridded_timeseries/catalog.xml'\n",
    "    \n",
    "    print(f'{base_catalog_url}')\n",
    "\n",
    "    catalog = TDSCatalog(base_catalog_url)\n",
    "    \n",
    "    # Filter dataset names with the keyword\n",
    "    matching_datasets = [ds for ds in catalog.datasets if variable_keyword in ds]\n",
    "    \n",
    "    if not matching_datasets:\n",
    "        raise ValueError(f\"No datasets found for {station_code} with keyword '{variable_keyword}'\")\n",
    "    \n",
    "    dataset_url = catalog.datasets[matching_datasets[0]].access_urls['OPENDAP']\n",
    "    return xr.open_dataset(dataset_url)\n"
   ]
  },
  {
   "cell_type": "code",
   "execution_count": null,
   "metadata": {},
   "outputs": [],
   "source": [
    "import warnings\n",
    "warnings.filterwarnings(\n",
    "    \"ignore\",\n",
    "    category=FutureWarning,\n",
    "    message=\"The return type of `Dataset.dims` will be changed.*\"\n",
    ")\n",
    "\n",
    "def global_vars():\n",
    "    # A basic chunk choice\n",
    "    chunks = {'ocean_time': 1}\n",
    "\n",
    "    glb_files = sorted(glob('/g/data/yj27/cgk561/freerun_1993_2023_CK/output/roms_his_*.nc'))\n",
    "    \n",
    "    ds = xroms.open_mfnetcdf(glb_files[16*12:16*16], chunks=chunks)\n",
    "    print('global_vars: OK!')\n",
    "    return ds\n",
    "\n",
    "\n",
    "model = global_vars()\n"
   ]
  },
  {
   "cell_type": "markdown",
   "metadata": {},
   "source": [
    "#### Open mooring datasets using THREDDS"
   ]
  },
  {
   "cell_type": "code",
   "execution_count": null,
   "metadata": {},
   "outputs": [],
   "source": [
    "# Reading the MOORING data online\n",
    "\n",
    "ch70   = load_latest_station_data('CH070' , 'TEMP')\n",
    "ch100  = load_latest_station_data('CH100' , 'TEMP')\n",
    "syd100 = load_latest_station_data('SYD100', 'TEMP')\n",
    "syd140 = load_latest_station_data('SYD140', 'TEMP')\n",
    "bmp70  = load_latest_station_data('BMP070', 'TEMP')\n",
    "bmp120 = load_latest_station_data('BMP120', 'TEMP')\n"
   ]
  },
  {
   "cell_type": "markdown",
   "metadata": {},
   "source": [
    "#### Make depth axis negative"
   ]
  },
  {
   "cell_type": "code",
   "execution_count": null,
   "metadata": {},
   "outputs": [],
   "source": [
    "ch100['DEPTH_1']  = ch100.DEPTH * -1\n",
    "ch70['DEPTH_1']   = ch70.DEPTH * -1\n",
    "syd100['DEPTH_1'] = syd100.DEPTH * -1\n",
    "syd140['DEPTH_1'] = syd140.DEPTH * -1\n",
    "bmp120['DEPTH_1'] = bmp120.DEPTH * -1\n",
    "bmp70['DEPTH_1']  = bmp120.DEPTH * -1"
   ]
  },
  {
   "cell_type": "markdown",
   "metadata": {},
   "source": [
    "### Functions to find the closest point and collecting it"
   ]
  },
  {
   "cell_type": "code",
   "execution_count": null,
   "metadata": {},
   "outputs": [],
   "source": [
    "def find_best_model_depth(moor_lon, moor_lat, moor_depth, model_lon, model_lat, model_h, nm):\n",
    "    print('\\nDoing for %s' % nm)\n",
    "    # Getting the deepest point from the mooring\n",
    "    moor_deepest = np.min(moor_depth)\n",
    "\n",
    "    # Finding the resolution for the longitude in the model\n",
    "    # The resolution will be used to give a range to look in the model for the best location\n",
    "    # The range used is 10x the mooring location.\n",
    "    resol = np.min(np.diff(model_lon))\n",
    "    st = moor_lon - (resol*10)\n",
    "    nd = moor_lon + (resol*10)\n",
    "    print('This is the original mooring longitude: %s' % moor_lon.data)\n",
    "    print('This is the starting range mooring longitude: %s' % st.data)\n",
    "    print('This is the ending range mooring longitude: %s' % nd.data)\n",
    "    \n",
    "    # Creating a mononically increasing longitudes from the range above.\n",
    "    # In the end, IDX will contain the longitude with closest depth value.\n",
    "    seed_array = np.linspace(st.values, nd.values, 20)\n",
    "    depth_diff = list()\n",
    "    sto_model_idx = list()\n",
    "    for tlon in seed_array:\n",
    "        # Gets model depth from the closest point just changing the longitude TLON for this loop\n",
    "        model_depth = xroms.sel2d(model_h, model_lon, model_lat, tlon, moor_lat)\n",
    "        depth_diff.append(abs(abs(moor_deepest) - model_depth.values))\n",
    "        sto_model_idx.append(model_depth.values)\n",
    "    idx = np.argsort(depth_diff)[0]\n",
    "    print('For the longitude %s, the depth difference between mooring and model is %s meters' % (seed_array[idx], np.round(depth_diff[idx].data, 2)))\n",
    "    print('Mooring depth is %s and model depth is %s meters.\\n' % (abs(moor_deepest.data), sto_model_idx[idx]))\n",
    "    return seed_array[idx]"
   ]
  },
  {
   "cell_type": "code",
   "execution_count": null,
   "metadata": {},
   "outputs": [],
   "source": [
    "# Getting model latitude and longitude\n",
    "\n",
    "lon = model.lon_rho.values\n",
    "lat = model.lat_rho.values\n"
   ]
  },
  {
   "cell_type": "markdown",
   "metadata": {},
   "source": [
    "## Coffs coordinates"
   ]
  },
  {
   "cell_type": "code",
   "execution_count": null,
   "metadata": {},
   "outputs": [],
   "source": [
    "ch100_lon, ch100_lat = ch100.LONGITUDE, ch100.LATITUDE\n",
    "ch100_lon_best = find_best_model_depth(ch100_lon, ch100_lat, ch100.DEPTH_1, lon, lat, model.h, 'CH100')\n"
   ]
  },
  {
   "cell_type": "code",
   "execution_count": null,
   "metadata": {},
   "outputs": [],
   "source": [
    "ch70_lon, ch70_lat = ch70.LONGITUDE, ch70.LATITUDE\n",
    "ch70_lon_best = find_best_model_depth(ch70_lon, ch70_lat, ch70.DEPTH_1, lon, lat, model.h, 'CH70')"
   ]
  },
  {
   "cell_type": "markdown",
   "metadata": {},
   "source": [
    "### Sydney Coordinates"
   ]
  },
  {
   "cell_type": "code",
   "execution_count": null,
   "metadata": {},
   "outputs": [],
   "source": [
    "syd100_lon, syd100_lat = syd100.LONGITUDE, syd100.LATITUDE\n",
    "syd100_lon_best = find_best_model_depth(syd100_lon, syd100_lat, syd100.DEPTH_1, lon, lat, model.h, 'SYD100')"
   ]
  },
  {
   "cell_type": "code",
   "execution_count": null,
   "metadata": {},
   "outputs": [],
   "source": [
    "syd140_lon, syd140_lat = syd140.LONGITUDE, syd140.LATITUDE\n",
    "syd140_lon_best = find_best_model_depth(syd140_lon, syd140_lat, syd140.DEPTH_1, lon, lat, model.h, 'SYD140')"
   ]
  },
  {
   "cell_type": "markdown",
   "metadata": {},
   "source": [
    "### Narooma coordinates"
   ]
  },
  {
   "cell_type": "code",
   "execution_count": null,
   "metadata": {},
   "outputs": [],
   "source": [
    "bmp120_lon, bmp120_lat = bmp120.LONGITUDE, bmp120.LATITUDE\n",
    "bmp120_lon_best = find_best_model_depth(bmp120_lon, bmp120_lat, bmp120.DEPTH_1, lon, lat, model.h, 'BMP120')"
   ]
  },
  {
   "cell_type": "code",
   "execution_count": null,
   "metadata": {},
   "outputs": [],
   "source": [
    "bmp70_lon, bmp70_lat = bmp70.LONGITUDE, bmp70.LATITUDE\n",
    "bmp70_lon_best = find_best_model_depth(bmp70_lon, bmp70_lat, bmp70.DEPTH_1, lon, lat, model.h, 'BMP70')"
   ]
  },
  {
   "cell_type": "markdown",
   "metadata": {},
   "source": [
    "### Plot locations for sanity check:"
   ]
  },
  {
   "cell_type": "code",
   "execution_count": null,
   "metadata": {},
   "outputs": [],
   "source": [
    "fig = plt.figure(figsize=(16,5))\n",
    "plt.subplot(2, 3, 1)\n",
    "plot_moor_pos(model, ch100_lon, ch100_lat, ch100_lon_best, 100, 'CH100 mooring locations')\n",
    "plt.subplot(2, 3, 2)\n",
    "plot_moor_pos(model, ch70_lon, ch70_lat, ch70_lon_best, 70, 'CH70 mooring locations')\n",
    "plt.subplot(2, 3, 3)\n",
    "plot_moor_pos(model, syd100_lon, syd100_lat, syd100_lon_best, 100, 'SYD100 mooring locations')\n",
    "plt.subplot(2, 3, 4)\n",
    "plot_moor_pos(model, syd140_lon, syd140_lat, syd140_lon_best, 140, 'SYD140 mooring locations')\n",
    "plt.subplot(2, 3, 5)\n",
    "plot_moor_pos(model, bmp120_lon, bmp120_lat, bmp120_lon_best, 120, 'BMP120 mooring locations')\n",
    "plt.subplot(2, 3, 6)\n",
    "plot_moor_pos(model, bmp70_lon, bmp70_lat, bmp70_lon_best, 70, 'BMP70 mooring locations')\n",
    "plt.tight_layout()\n"
   ]
  },
  {
   "cell_type": "code",
   "execution_count": null,
   "metadata": {},
   "outputs": [],
   "source": [
    "# Using the best location with the longitude information, and the original mooring latitude, we will get the model time-series from that point\n",
    "# We will compare the same days from mooring and model\n",
    "\n",
    "model_ch100  = xroms.sel2d(model.temp, lon, lat, ch100_lon_best, ch100_lat).sel(ocean_time=slice(ch100.TIME[0], model.ocean_time[-1])).load()\n",
    "model_ch70   = xroms.sel2d(model.temp, lon, lat, ch70_lon_best, ch70_lat).sel(ocean_time=slice(ch70.TIME[0], model.ocean_time[-1])).load()\n",
    "model_syd100 = xroms.sel2d(model.temp, lon, lat, syd100_lon_best, syd100_lat).sel(ocean_time=slice(syd100.TIME[0], model.ocean_time[-1])).load()\n",
    "model_syd140 = xroms.sel2d(model.temp, lon, lat, syd140_lon_best, syd140_lat).sel(ocean_time=slice(syd140.TIME[0], model.ocean_time[-1])).load()\n",
    "model_bmp120 = xroms.sel2d(model.temp, lon, lat, bmp120_lon_best, bmp120_lat).sel(ocean_time=slice(bmp120.TIME[0], model.ocean_time[-1])).load()\n",
    "model_bmp70  = xroms.sel2d(model.temp, lon, lat, bmp70_lon_best, bmp70_lat).sel(ocean_time=slice(bmp70.TIME[0], model.ocean_time[-1])).load()\n"
   ]
  },
  {
   "cell_type": "markdown",
   "metadata": {},
   "source": [
    "### Save out temperature timeseries from model and moorings"
   ]
  },
  {
   "cell_type": "code",
   "execution_count": null,
   "metadata": {},
   "outputs": [],
   "source": [
    "if saving:\n",
    "    print('Saving model files now...')\n",
    "    save_model_at_mooring(model_ch100 , 'model_ch100' )\n",
    "    save_model_at_mooring(model_ch70  , 'model_ch70'  )\n",
    "    save_model_at_mooring(model_syd100, 'model_syd100')\n",
    "    save_model_at_mooring(model_syd140, 'model_syd140')\n",
    "    save_model_at_mooring(model_bmp120, 'model_bmp120')\n",
    "    save_model_at_mooring(model_bmp70 , 'model_bmp70' )\n",
    "\n",
    "    print('Saving mooring files now...')\n",
    "    ch70 \n",
    "    ch100\n",
    "    syd100\n",
    "    syd140\n",
    "    bmp70\n",
    "    bmp120"
   ]
  },
  {
   "cell_type": "markdown",
   "metadata": {},
   "source": [
    "### Plot time-mean profiles to compare"
   ]
  },
  {
   "cell_type": "code",
   "execution_count": null,
   "metadata": {},
   "outputs": [],
   "source": [
    "model_time = model_ch100.mean('ocean_time')\n",
    "model_depth = model_ch100.z_rho.mean('ocean_time')\n",
    "ch100_cut = ch100.TEMP.sel(TIME=slice(ch100.TIME[0], model.ocean_time[-1])).mean('TIME')\n",
    "plt.plot(model_time, model_depth, color='orange', label='model')\n",
    "plt.scatter(ch100_cut, ch100.DEPTH_1, color='k', label='Obs')\n",
    "plt.title('CH100 ROMS model')\n",
    "plt.legend()\n",
    "# plt.savefig('model_ch100_temp.png',format=\"png\",bbox_inches='tight',pad_inches=0.1, dpi=100)"
   ]
  },
  {
   "cell_type": "code",
   "execution_count": null,
   "metadata": {},
   "outputs": [],
   "source": [
    "model_time = model_ch70.mean('ocean_time')\n",
    "model_depth = model_ch70.z_rho.mean('ocean_time')\n",
    "ch70_cut = ch70.TEMP.sel(TIME=slice(ch70.TIME[0], model.ocean_time[-1])).mean('TIME')\n",
    "plt.plot(model_time, model_depth, color='orange', label='model')\n",
    "plt.scatter(ch70_cut, ch70.DEPTH_1, color='k', label='Obs')\n",
    "plt.title('CH70 ROMS model')\n",
    "plt.legend()\n",
    "# plt.savefig('model_ch70_temp.png', format=\"png\",bbox_inches='tight',pad_inches=0.1, dpi=100)"
   ]
  },
  {
   "cell_type": "code",
   "execution_count": null,
   "metadata": {},
   "outputs": [],
   "source": [
    "model_time = model_syd100.mean('ocean_time')\n",
    "model_depth = model_syd100.z_rho.mean('ocean_time')\n",
    "syd100_cut = syd100.TEMP.sel(TIME=slice(syd100.TIME[0], model.ocean_time[-1])).mean('TIME')\n",
    "plt.plot(model_time, model_depth, color='orange', label='model')\n",
    "plt.scatter(syd100_cut, syd100.DEPTH_1, color='k', label='Obs')\n",
    "plt.title('SYD100 ROMS model')\n",
    "plt.legend()\n",
    "# plt.savefig('model_syd100_temp.png',format=\"png\",bbox_inches='tight',pad_inches=0.1, dpi=100)"
   ]
  },
  {
   "cell_type": "code",
   "execution_count": null,
   "metadata": {},
   "outputs": [],
   "source": [
    "model_time = model_syd140.mean('ocean_time')\n",
    "model_depth = model_syd140.z_rho.mean('ocean_time')\n",
    "syd140_cut = syd140.TEMP.sel(TIME=slice(syd140.TIME[0], model.ocean_time[-1])).mean('TIME')\n",
    "plt.plot(model_time, model_depth, color='orange', label='model')\n",
    "plt.scatter(syd140_cut, syd140.DEPTH_1, color='k', label='Obs')\n",
    "plt.title('SYD140 ROMS model')\n",
    "plt.legend()\n",
    "# plt.savefig('model_syd140_temp.png',format=\"png\",bbox_inches='tight',pad_inches=0.1, dpi=100)"
   ]
  },
  {
   "cell_type": "code",
   "execution_count": null,
   "metadata": {},
   "outputs": [],
   "source": [
    "model_time = model_bmp120.mean('ocean_time')\n",
    "model_depth = model_bmp120.z_rho.mean('ocean_time')\n",
    "bmp120_cut = bmp120.TEMP.sel(TIME=slice(bmp120.TIME[0], model.ocean_time[-1])).mean('TIME')\n",
    "plt.plot(model_time, model_depth, color='orange', label='model')\n",
    "plt.scatter(bmp120_cut, bmp120.DEPTH_1, color='k', label='Obs')\n",
    "plt.title('BMP120 ROMS model')\n",
    "plt.legend()\n",
    "# plt.savefig('model_bmp120_temp.png',format=\"png\",bbox_inches='tight',pad_inches=0.1, dpi=100)"
   ]
  },
  {
   "cell_type": "code",
   "execution_count": null,
   "metadata": {},
   "outputs": [],
   "source": [
    "model_time = model_bmp70.mean('ocean_time')\n",
    "model_depth = model_bmp70.z_rho.mean('ocean_time')\n",
    "bmp70_cut = bmp70.TEMP.sel(TIME=slice(bmp70.TIME[0], model.ocean_time[-1])).mean('TIME')\n",
    "plt.plot(model_time, model_depth, color='orange', label='model')\n",
    "plt.scatter(bmp70_cut, bmp70.DEPTH_1, color='k', label='Obs')\n",
    "plt.title('BMP70 ROMS model')\n",
    "plt.legend()\n",
    "# plt.savefig('model_bmp70_temp.png',format=\"png\",bbox_inches='tight',pad_inches=0.1, dpi=100)"
   ]
  },
  {
   "cell_type": "code",
   "execution_count": null,
   "metadata": {},
   "outputs": [],
   "source": []
  },
  {
   "cell_type": "code",
   "execution_count": null,
   "metadata": {},
   "outputs": [],
   "source": []
  }
 ],
 "metadata": {
  "kernelspec": {
   "display_name": "my_venv_official",
   "language": "python",
   "name": "my_venv_official"
  },
  "language_info": {
   "codemirror_mode": {
    "name": "ipython",
    "version": 3
   },
   "file_extension": ".py",
   "mimetype": "text/x-python",
   "name": "python",
   "nbconvert_exporter": "python",
   "pygments_lexer": "ipython3",
   "version": "3.12.1"
  }
 },
 "nbformat": 4,
 "nbformat_minor": 4
}
